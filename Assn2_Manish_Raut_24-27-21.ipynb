{
 "cells": [
  {
   "cell_type": "markdown",
   "id": "35fc9c69-5ecd-4ad5-9f95-70178e2448e7",
   "metadata": {},
   "source": [
    "### DSTT Assignment2\n",
    "### Manish Raut\n",
    "### Reg No.: 24-27-21\n",
    "### Branch : Mtech(Data Science)"
   ]
  },
  {
   "cell_type": "code",
   "execution_count": null,
   "id": "d299d943-234e-4680-be80-54dae8559ec3",
   "metadata": {},
   "outputs": [],
   "source": []
  },
  {
   "cell_type": "code",
   "execution_count": null,
   "id": "aaa94c41-a5b2-4d57-ad72-c9915438d62a",
   "metadata": {},
   "outputs": [],
   "source": []
  }
 ],
 "metadata": {
  "kernelspec": {
   "display_name": "Python 3 (ipykernel)",
   "language": "python",
   "name": "python3"
  },
  "language_info": {
   "codemirror_mode": {
    "name": "ipython",
    "version": 3
   },
   "file_extension": ".py",
   "mimetype": "text/x-python",
   "name": "python",
   "nbconvert_exporter": "python",
   "pygments_lexer": "ipython3",
   "version": "3.12.4"
  }
 },
 "nbformat": 4,
 "nbformat_minor": 5
}
